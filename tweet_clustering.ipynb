{
 "cells": [
  {
   "cell_type": "code",
   "execution_count": 1,
   "metadata": {},
   "outputs": [],
   "source": [
    "import json\n",
    "import sys"
   ]
  },
  {
   "cell_type": "code",
   "execution_count": 2,
   "metadata": {},
   "outputs": [],
   "source": [
    "# Import the tweet files\n",
    "with open(\"./tweets.json\", \"r\") as read_file:\n",
    "    data = json.load(read_file)\n",
    "\n",
    "with open(\"./initialSeeds.txt\") as s:\n",
    "    seeds = list(s)"
   ]
  },
  {
   "cell_type": "code",
   "execution_count": 3,
   "metadata": {},
   "outputs": [],
   "source": [
    "# Put seeds into list of ints\n",
    "seeds = list(map(str.rstrip, seeds))\n",
    "seeds = [seed.replace(',', '') for seed in seeds]\n",
    "seeds = list(map(int, seeds))\n"
   ]
  },
  {
   "cell_type": "code",
   "execution_count": 4,
   "metadata": {},
   "outputs": [],
   "source": [
    "# Turn tweet text string into list of words\n",
    "for tweet in data:\n",
    "\n",
    "    # isolate text, make all lowercase, and split on whitespace\n",
    "    tweet['text'] = tweet['text'].lower().split()\n",
    "    \n",
    "    # making the decision to leave in hashtags and handles\n",
    "    # and remove retweet from 0th position\n",
    "    if tweet['text'][0] == 'rt':\n",
    "        tweet['text'] = tweet['text'][1:]"
   ]
  },
  {
   "cell_type": "code",
   "execution_count": 5,
   "metadata": {},
   "outputs": [],
   "source": [
    "# Helper functions to calculate jaccard distance\n",
    "\n",
    "def intersect(a, b):\n",
    "    intersection = [value for value in a if value in b] \n",
    "    return len(intersection)\n",
    "\n",
    "def union(a, b): \n",
    "    union = list(set(a) | set(b)) \n",
    "    return len(union)\n",
    "\n",
    "def jaccard(a, b):\n",
    "    # remove duplicated words in a list\n",
    "    a = set(a)\n",
    "    b = set(b)\n",
    "    return (1. - abs(float(intersect(a, b)))/abs(float(union(a, b))))"
   ]
  },
  {
   "cell_type": "code",
   "execution_count": 6,
   "metadata": {},
   "outputs": [
    {
     "name": "stdout",
     "output_type": "stream",
     "text": [
      "1 should be 1\n",
      "5 should be 5\n",
      "0.8 should be 0.8\n",
      "0.0 should be 0.0\n",
      "1.0 should be 1.0\n"
     ]
    }
   ],
   "source": [
    "# Testing\n",
    "\n",
    "print(intersect(['the', 'long', 'march'],['ides', 'of', 'march']), 'should be 1')\n",
    "print(union(['the', 'long', 'march'],['ides', 'of', 'march']), 'should be 5')\n",
    "print(jaccard(['the', 'long', 'march'],['ides', 'of', 'march']), 'should be 0.8')\n",
    "print(jaccard(['the', 'long', 'march'],['the', 'long', 'march']), 'should be 0.0')\n",
    "print(jaccard(['the', 'long', 'march'],['a', 'short', 'april']), 'should be 1.0')"
   ]
  },
  {
   "cell_type": "code",
   "execution_count": 7,
   "metadata": {},
   "outputs": [],
   "source": [
    "K = 25"
   ]
  },
  {
   "cell_type": "code",
   "execution_count": 8,
   "metadata": {},
   "outputs": [],
   "source": [
    "centroid_list = seeds[0:K]\n",
    "# print(centroidList)"
   ]
  },
  {
   "cell_type": "code",
   "execution_count": 9,
   "metadata": {},
   "outputs": [
    {
     "data": {
      "text/plain": [
       "1.0"
      ]
     },
     "execution_count": 9,
     "metadata": {},
     "output_type": "execute_result"
    }
   ],
   "source": [
    "# Helper function to get full tweet object from id:\n",
    "\n",
    "def getTweet(id):\n",
    "    return next((x for x in data if x['id'] == id), None)\n",
    "\n",
    "jaccard(['the', 'long', 'march'],['a', 'short', 'april'])"
   ]
  },
  {
   "cell_type": "code",
   "execution_count": 10,
   "metadata": {},
   "outputs": [],
   "source": [
    "# Loop through tweets and assign them a centroid.\n",
    "def assign_tweets_to_centroids(centList):\n",
    "    for tweet in data:\n",
    "\n",
    "        # if already a centroid, set its assigned centroid to itself and go to next tweet\n",
    "        if tweet['id'] in centList:\n",
    "            tweet['centroid'] = tweet['id']\n",
    "            continue\n",
    "\n",
    "        min_dist = 1 # set our starting Jaccard dist to 1 (max)\n",
    "\n",
    "        for centroid in centList:\n",
    "\n",
    "            # calculate the jacard distance to each centroid\n",
    "            dist = jaccard(tweet['text'],getTweet(centroid)['text'])\n",
    "\n",
    "            # if it's less than the already assigned centroid, reset it\n",
    "            if dist < min_dist:\n",
    "                tweet['centroid'] = centroid        \n",
    "\n",
    "# assign_tweets_to_centroids()"
   ]
  },
  {
   "cell_type": "code",
   "execution_count": 11,
   "metadata": {},
   "outputs": [],
   "source": [
    "# for centroid in centroidList:\n",
    "#     print(centroid)\n",
    "# cluster = (tweet for tweet in data if tweet['centroid'] == centroid)\n",
    "# for x in cluster:\n",
    "#     print(x)"
   ]
  },
  {
   "cell_type": "code",
   "execution_count": 12,
   "metadata": {},
   "outputs": [],
   "source": [
    "# find k cluster centers\n",
    "\n",
    "def get_cluster(centroid):\n",
    "    return (tweet for tweet in data if tweet['centroid'] == centroid)\n",
    "\n",
    "def update_centroids(K, centList):\n",
    "    \n",
    "    new_centroid_list = []\n",
    "    \n",
    "    # for each centroid group defined by the id of the centroid\n",
    "    # loop through each point in the group and find it's average \n",
    "    # distance from all the other points in the group\n",
    "    for centroid in centList:\n",
    "        \n",
    "        # only want tweets corresponding to this centroid\n",
    "        cluster_size = sum(1 for i in get_cluster(centroid))\n",
    "        \n",
    "        # initial values\n",
    "        new_centroid_id = centroid\n",
    "        min_avg_dist = 1\n",
    "        \n",
    "        # loop through the tweets in the cluster\n",
    "        for current_tweet in get_cluster(centroid):\n",
    "\n",
    "            #init total dist for min_avg_dist calculation\n",
    "            total_dist = 0\n",
    "            \n",
    "            # compare each one to all the others in the cluster\n",
    "            for comparison_tweet in get_cluster(centroid):\n",
    "                total_dist += jaccard(current_tweet['text'], comparison_tweet['text'])\n",
    "            \n",
    "            # calculate avg_dist\n",
    "            avg_dist = total_dist / cluster_size\n",
    "            \n",
    "            # update min_avg_dist and new_centroid_id if necessary\n",
    "            if avg_dist < min_avg_dist:\n",
    "                min_avg_dist = avg_dist\n",
    "                new_centroid_id = current_tweet['id']\n",
    "        \n",
    "        # create the new centroid list from the new_centroid_id's\n",
    "        new_centroid_list.append(new_centroid_id)\n",
    "        \n",
    "    print('{0}/{1} new centroids chosen'.format(K-intersect(new_centroid_list, centList), len(centList)))\n",
    "    \n",
    "    return new_centroid_list\n",
    "                \n",
    "        \n",
    "           \n",
    "# print(intersect(update_centroids(K, centroidList), centroidList))\n",
    "# assign_tweets_to_centroids(centroid_list)\n",
    "# print(centroid_list)\n",
    "\n"
   ]
  },
  {
   "cell_type": "code",
   "execution_count": 13,
   "metadata": {},
   "outputs": [
    {
     "name": "stdout",
     "output_type": "stream",
     "text": [
      "4/24 new centroids chosen\n",
      "4/24 new centroids chosen\n",
      "1/24 new centroids chosen\n",
      "1/24 new centroids chosen\n",
      "0/24 new centroids chosen\n",
      "CONVERGENCE!\n"
     ]
    }
   ],
   "source": [
    "# RUN THE ALGORITHM\n",
    "\n",
    "if len(centroid_list) > K:\n",
    "    print('You must supply at least K seed values')\n",
    "    sys.exit()\n",
    "\n",
    "if K<2:\n",
    "    print('K must be an integer value greater than 1')\n",
    "    sys.exit()\n",
    "    \n",
    "# initialize centroids    \n",
    "assign_tweets_to_centroids(centroid_list)\n",
    "\n",
    "# While our centroids are still updating\n",
    "while (intersect(update_centroids(K, centroid_list), centroid_list) < K):\n",
    "\n",
    "    \n",
    "    \n",
    "    # update the centroid_list\n",
    "    centroid_list = update_centroids(K, centroid_list)\n",
    "    \n",
    "    # assign tweets to their closest centroid\n",
    "    assign_tweets_to_centroids(centroid_list)\n",
    "\n",
    "print('CONVERGENCE!')"
   ]
  },
  {
   "cell_type": "code",
   "execution_count": 14,
   "metadata": {},
   "outputs": [],
   "source": [
    "# Visualize initial clustering\n",
    "# print(centroid_list)\n",
    "\n",
    "# centroid_count = [0]*K\n",
    "\n",
    "# for tweet in data:\n",
    "#     for x in range(len(centroid_list)):\n",
    "#         if tweet['centroid'] == centroid_list[x]:\n",
    "#             centroid_count[x] += 1\n",
    "# print(centroid_count)        "
   ]
  },
  {
   "cell_type": "code",
   "execution_count": 15,
   "metadata": {},
   "outputs": [],
   "source": [
    "# for centroid in centroid_list:\n",
    "#     cluster_list = []\n",
    "#     for current_tweet in get_cluster(centroid):\n",
    "#         cluster_list.append(current_tweet['id'])"
   ]
  },
  {
   "cell_type": "code",
   "execution_count": 16,
   "metadata": {},
   "outputs": [],
   "source": [
    "clusters = []\n",
    "for centroid in centroid_list:\n",
    "    cluster = []\n",
    "    for tweet in get_cluster(centroid):\n",
    "        cluster.append(tweet['id'])\n",
    "    clusters.append(cluster)\n",
    "    \n",
    "f = open(\"output.txt\",\"w+\")\n",
    "for idx, centroid in enumerate(centroid_list):\n",
    "    tweets = ', '.join(str(s) for s in clusters[idx])\n",
    "    f.write('{0} {1}\\n'.format(idx, tweets))\n",
    "f.close()"
   ]
  },
  {
   "cell_type": "code",
   "execution_count": null,
   "metadata": {},
   "outputs": [],
   "source": []
  }
 ],
 "metadata": {
  "kernelspec": {
   "display_name": "Python 3",
   "language": "python",
   "name": "python3"
  },
  "language_info": {
   "codemirror_mode": {
    "name": "ipython",
    "version": 3
   },
   "file_extension": ".py",
   "mimetype": "text/x-python",
   "name": "python",
   "nbconvert_exporter": "python",
   "pygments_lexer": "ipython3",
   "version": "3.5.6"
  }
 },
 "nbformat": 4,
 "nbformat_minor": 2
}
